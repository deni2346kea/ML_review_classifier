{
 "cells": [
  {
   "cell_type": "markdown",
   "metadata": {},
   "source": [
    "# Web App"
   ]
  },
  {
   "cell_type": "markdown",
   "metadata": {},
   "source": [
    "## Technologies"
   ]
  },
  {
   "cell_type": "markdown",
   "metadata": {},
   "source": [
    "### WSGI \n",
    "Web Server Gateway Interface. <br>\n",
    "A specification that describes how a web server communicates with web applications, and how web applications can be chained together to process one request.\n",
    "Implemented for deployment of applications on a web server."
   ]
  },
  {
   "cell_type": "markdown",
   "metadata": {},
   "source": [
    "### Flask\n",
    "A popular and lightweight <b>WSGI</b> web application framework. <br>\n",
    "Appropriate for developing and deploying Python web applications on a web server."
   ]
  },
  {
   "cell_type": "code",
   "execution_count": null,
   "metadata": {},
   "outputs": [],
   "source": [
    "# To install/update Flask\n",
    "!pip install -U Flask\n",
    "!pip install wtforms"
   ]
  },
  {
   "cell_type": "markdown",
   "metadata": {},
   "source": [
    "#### Flask Example 1"
   ]
  },
  {
   "cell_type": "code",
   "execution_count": null,
   "metadata": {},
   "outputs": [],
   "source": [
    "%%writefile app.py\n",
    "# define app that will be deployed on a server and save it in a file\n",
    "\n",
    "# import class Flask\n",
    "from flask import Flask\n",
    "\n",
    "# create an instance (our app)\n",
    "app = Flask(__name__)\n",
    "\n",
    "# by default, Flask server runs on http://127.0.0.1:5000\n",
    "# we define relative URL on the server, where our app will be hosted - binds it to the URL\n",
    "@app.route('/myapp')\n",
    "def hello():\n",
    "    return 'Hello, Flask!'\n",
    "\n",
    "if __name__ == '__main__' :\n",
    "    app.run(port=5000,debug=True);\n",
    "    \n"
   ]
  },
  {
   "cell_type": "code",
   "execution_count": null,
   "metadata": {},
   "outputs": [],
   "source": [
    "!python app.py"
   ]
  },
  {
   "cell_type": "markdown",
   "metadata": {},
   "source": [
    "#### Flask Example 2 "
   ]
  },
  {
   "cell_type": "markdown",
   "metadata": {},
   "source": [
    "This example demonstrates use of templates for the web pages, as well as processing of HTTP requests and responces"
   ]
  },
  {
   "cell_type": "code",
   "execution_count": null,
   "metadata": {},
   "outputs": [],
   "source": [
    "%%writefile formapp.py\n",
    "# define app that will display submit form and will return personal greeting\n",
    "from flask import Flask, render_template, request\n",
    "app = Flask(__name__)\n",
    "\n",
    "@app.route('/', methods=['GET', 'POST'])\n",
    "def index():\n",
    "    name = None\n",
    "    if request.method == 'POST' and 'name' in request.form:\n",
    "        name = request.form['name']\n",
    "    return render_template('index.html', name=name)\n",
    "\n",
    "if __name__ == '__main__':\n",
    "    app.run(port=5000, debug=True)"
   ]
  },
  {
   "cell_type": "code",
   "execution_count": null,
   "metadata": {},
   "outputs": [],
   "source": [
    "!python formapp.py"
   ]
  },
  {
   "cell_type": "code",
   "execution_count": null,
   "metadata": {
    "collapsed": true
   },
   "outputs": [],
   "source": []
  }
 ],
 "metadata": {
  "kernelspec": {
   "display_name": "Python 3",
   "language": "python",
   "name": "python3"
  },
  "language_info": {
   "codemirror_mode": {
    "name": "ipython",
    "version": 3
   },
   "file_extension": ".py",
   "mimetype": "text/x-python",
   "name": "python",
   "nbconvert_exporter": "python",
   "pygments_lexer": "ipython3",
   "version": "3.6.3"
  }
 },
 "nbformat": 4,
 "nbformat_minor": 2
}
